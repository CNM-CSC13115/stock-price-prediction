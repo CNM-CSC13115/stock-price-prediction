{
 "cells": [
  {
   "cell_type": "code",
   "execution_count": 2,
   "metadata": {},
   "outputs": [],
   "source": [
    "import pandas as pd \n",
    "import numpy as np\n",
    "import math\n",
    "import matplotlib.pyplot as plt\n",
    "from keras.models import Sequential\n",
    "from keras.layers import Dense, LSTM\n",
    "from sklearn.preprocessing import MinMaxScaler\n",
    "from keras.models import load_model\n",
    "from keras.layers import Dropout\n",
    "import xgboost\n",
    "import pickle"
   ]
  },
  {
   "cell_type": "code",
   "execution_count": 3,
   "metadata": {},
   "outputs": [],
   "source": [
    "alpha_key = 'RNZPXZ6Q9FEFMEHM'\n",
    "ticker = 'MSFT'\n",
    "periods = 20\n",
    "csvPath = './DATA/'+ ticker +'.csv'\n",
    "from alpha_vantage.timeseries import TimeSeries\n",
    "\n",
    "ts = TimeSeries(key=alpha_key, output_format='pandas')\n",
    "\n",
    "data = ts.get_intraday(symbol=ticker,interval='15min', outputsize='full')\n",
    "data = data[0]\n",
    "data.rename(lambda x: x[2:].strip(), axis='columns', inplace=True)\n",
    "data\n",
    "\n",
    "from alpha_vantage.techindicators import TechIndicators\n",
    "ti = TechIndicators(key=alpha_key, output_format='pandas')\n",
    "\n",
    "indicator_roc = ti.get_roc(symbol=ticker, interval='15min', time_period=periods)\n",
    "indicator_roc = indicator_roc[0]\n",
    "\n",
    "\n",
    "indicator_sma = ti.get_sma(symbol=ticker, interval='15min', time_period=periods)\n",
    "indicator_sma = indicator_sma[0]\n",
    "\n",
    "\n",
    "indicator_rsi = ti.get_rsi(symbol=ticker, interval='15min', time_period=periods)\n",
    "indicator_rsi = indicator_rsi[0]\n",
    "\n",
    "\n",
    "def BollingerBand(data, n_loockback, n_std=2):\n",
    "    hlc_avg = (data.high + data.low + data.close)/3\n",
    "    data_std = hlc_avg.rolling(window=n_loockback).std()\n",
    "    data_upper = data.SMA + n_std * data_std\n",
    "    data_lower = data.SMA - n_std * data_std\n",
    "    return data.SMA, data_lower, data_upper\n",
    "\n",
    "indicator_bb = ti.get_bbands(symbol=ticker, interval='15min', time_period=periods)\n",
    "indicator_bb = indicator_bb[0]\n",
    "\n",
    "\n",
    "original_df = pd.merge(data, indicator_roc, on='date', how='inner')\n",
    "original_df = pd.merge(original_df, indicator_sma, on='date', how='inner')\n",
    "original_df = pd.merge(original_df, indicator_rsi, on='date', how='inner')\n",
    "original_df = pd.merge(original_df, indicator_bb, on='date', how='inner')\n",
    "original_df[\"Real Middle Band\"], original_df[\"Real Lower Band\"], original_df[\"Real Upper Band\"] = BollingerBand(original_df, 20, 2)\n",
    "original_df = original_df.dropna()\n",
    "original_df = original_df.iloc[::-1]\n",
    "original_df.to_csv(csvPath)"
   ]
  }
 ],
 "metadata": {
  "kernelspec": {
   "display_name": "Python 3",
   "language": "python",
   "name": "python3"
  },
  "language_info": {
   "codemirror_mode": {
    "name": "ipython",
    "version": 3
   },
   "file_extension": ".py",
   "mimetype": "text/x-python",
   "name": "python",
   "nbconvert_exporter": "python",
   "pygments_lexer": "ipython3",
   "version": "3.10.9"
  },
  "orig_nbformat": 4,
  "vscode": {
   "interpreter": {
    "hash": "df95319d8ce4e1d89f5365ae10992bc1f65da593082b1d264e8f529830ec2f02"
   }
  }
 },
 "nbformat": 4,
 "nbformat_minor": 2
}
